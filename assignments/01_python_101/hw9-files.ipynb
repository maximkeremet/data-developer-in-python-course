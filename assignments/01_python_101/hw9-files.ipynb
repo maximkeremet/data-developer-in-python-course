{
 "cells": [
  {
   "cell_type": "code",
   "execution_count": null,
   "metadata": {
    "deletable": false,
    "editable": false
   },
   "outputs": [],
   "source": [
    "# Initialize Otter\n",
    "import otter\n",
    "grader = otter.Notebook(\"hw9.ipynb\")"
   ]
  },
  {
   "cell_type": "markdown",
   "metadata": {
    "id": "Sj07qbgkUwXp"
   },
   "source": [
    "# Практическое задание"
   ]
  },
  {
   "cell_type": "markdown",
   "metadata": {
    "deletable": false,
    "editable": false,
    "id": "vcI2LWumoSl_"
   },
   "source": [
    "1. Напишите класс Person, который будет содержать атрибуты `name` и `age`, и метод `introduce`, который будет возвращать информацию о человеке в формате \"Меня зовут `[name]`, мне `[age]` лет.\""
   ]
  },
  {
   "cell_type": "code",
   "execution_count": 17,
   "metadata": {
    "colab": {
     "base_uri": "https://localhost:8080/"
    },
    "id": "U8YNr9IroaIh",
    "outputId": "71b5d2bf-873b-4dc7-86dd-ab9593d0f52e",
    "tags": [
     "otter_assign_solution_cell"
    ]
   },
   "outputs": [
    {
     "data": {
      "text/plain": [
       "' # BEGIN PROMPT\\nclass Person:\\n    def __init__(self, name, age):\\n        # ТУТ ТВОЙ КОД\\n\\n    def introduce(self):\\n       # ТУТ ТВОЙ КОД\\n\\nperson = Person(\"Иван\", 25)\\nperson.introduce()\\n'"
      ]
     },
     "execution_count": 17,
     "metadata": {},
     "output_type": "execute_result"
    }
   ],
   "source": [
    "# BEGIN SOLUTION NO PROMPT\n",
    "class Person:\n",
    "    def __init__(self, name, age):\n",
    "        self.name = name\n",
    "        self.age = age\n",
    "\n",
    "    def introduce(self):\n",
    "        return f\"Меня зовут {self.name}, мне {self.age} лет.\"\n",
    "\n",
    "person = Person(\"Иван\", 25)\n",
    "intro = person.introduce()\n",
    "\n",
    "\n",
    "# END SOLUTION\n",
    "\"\"\" # BEGIN PROMPT\n",
    "class Person:\n",
    "    def __init__(self, name, age):\n",
    "        # ТУТ ТВОЙ КОД\n",
    "\n",
    "    def introduce(self):\n",
    "       # ТУТ ТВОЙ КОД\n",
    "\n",
    "person = Person(\"Иван\", 25)\n",
    "person.introduce()\n",
    "\"\"\" # END PROMPT"
   ]
  },
  {
   "cell_type": "code",
   "execution_count": null,
   "metadata": {
    "deletable": false,
    "editable": false
   },
   "outputs": [],
   "source": [
    "grader.check(\"q1\")"
   ]
  },
  {
   "cell_type": "markdown",
   "metadata": {
    "deletable": false,
    "editable": false
   },
   "source": [
    "2.  Создайте класс `Rectangle`, который принимает два аргумента в инициализаторе: `width` (ширина) и `height` (высота). Добавьте метод `area`, который будет возвращать площадь прямоугольника."
   ]
  },
  {
   "cell_type": "code",
   "execution_count": 19,
   "metadata": {
    "tags": [
     "otter_assign_solution_cell"
    ]
   },
   "outputs": [
    {
     "data": {
      "text/plain": [
       "' # BEGIN PROMPT\\nclass Rectangle:\\n    def __init__(self, width, height):\\n        # ТУТ ТВОЙ КОД\\n\\n    def area(self):\\n        # ТУТ ТВОЙ КОД\\n\\n'"
      ]
     },
     "execution_count": 19,
     "metadata": {},
     "output_type": "execute_result"
    }
   ],
   "source": [
    "# BEGIN SOLUTION NO PROMPT\n",
    "class Rectangle:\n",
    "    def __init__(self, width, height):\n",
    "        self.width = width\n",
    "        self.height = height\n",
    "\n",
    "    def area(self):\n",
    "        return self.width * self.height\n",
    "\n",
    "\n",
    "# END SOLUTION\n",
    "\"\"\" # BEGIN PROMPT\n",
    "class Rectangle:\n",
    "    def __init__(self, width, height):\n",
    "        # ТУТ ТВОЙ КОД\n",
    "\n",
    "    def area(self):\n",
    "        # ТУТ ТВОЙ КОД\n",
    "\n",
    "\"\"\" # END PROMPT\n"
   ]
  },
  {
   "cell_type": "code",
   "execution_count": null,
   "metadata": {
    "deletable": false,
    "editable": false
   },
   "outputs": [],
   "source": [
    "grader.check(\"q2\")"
   ]
  },
  {
   "cell_type": "markdown",
   "metadata": {
    "deletable": false,
    "editable": false
   },
   "source": [
    "3.  Напишите класс `BankAccount`, который содержит атрибут `balance` (баланс) и методы `deposit` (для пополнения счета) и `withdraw` (для снятия денег со счета)."
   ]
  },
  {
   "cell_type": "code",
   "execution_count": null,
   "metadata": {
    "tags": [
     "otter_assign_solution_cell"
    ]
   },
   "outputs": [],
   "source": [
    "# BEGIN SOLUTION NO PROMPT\n",
    "class BankAccount:\n",
    "    def __init__(self):\n",
    "        self.balance = 0\n",
    "\n",
    "    def deposit(self, amount):\n",
    "        self.balance += amount\n",
    "        return f\"Баланс увеличен на {amount}. Текущий баланс: {self.balance}.\"\n",
    "\n",
    "    def withdraw(self, amount):\n",
    "        if self.balance >= amount:\n",
    "            self.balance -= amount\n",
    "            return f\"Сумма {amount} снята со счета. Текущий баланс: {self.balance}.\"\n",
    "        else:\n",
    "            return \"Недостаточно средств на счете.\"\n",
    "\n",
    "\n",
    "account = BankAccount()\n",
    "deposit = account.deposit(100)\n",
    "print(deposit)\n",
    "withdrawal = account.withdraw(50)\n",
    "print(withdrawal)\n",
    "\n",
    "\n",
    "# END SOLUTION\n",
    "\"\"\" # BEGIN PROMPT\n",
    "class BankAccount:\n",
    "\n",
    "    # ТУТ ТВОЙ КОД\n",
    "\n",
    "\n",
    "account = BankAccount()\n",
    "deposit = account.deposit(100)\n",
    "print(deposit)\n",
    "withdrawal = account.withdraw(50)\n",
    "print(withdrawal)\n",
    "        # ТУТ ТВОЙ КОД\n",
    "\n",
    "\"\"\" # END PROMPT\n"
   ]
  },
  {
   "cell_type": "code",
   "execution_count": null,
   "metadata": {
    "deletable": false,
    "editable": false
   },
   "outputs": [],
   "source": [
    "grader.check(\"q3\")"
   ]
  },
  {
   "cell_type": "markdown",
   "metadata": {
    "deletable": false,
    "editable": false
   },
   "source": [
    "## Submission\n",
    "\n",
    "Make sure you have run all cells in your notebook in order before running the cell below, so that all images/graphs appear in the output. The cell below will generate a zip file for you to submit. **Please save before exporting!**\n",
    "\n",
    "These are some submission instructions."
   ]
  },
  {
   "cell_type": "code",
   "execution_count": null,
   "metadata": {
    "deletable": false,
    "editable": false
   },
   "outputs": [],
   "source": [
    "# Save your notebook first, then run this cell to export your submission.\n",
    "grader.export(run_tests=True)"
   ]
  },
  {
   "cell_type": "markdown",
   "metadata": {},
   "source": [
    " "
   ]
  }
 ],
 "metadata": {
  "colab": {
   "provenance": [],
   "toc_visible": true
  },
  "kernelspec": {
   "display_name": "Python 3 (ipykernel)",
   "language": "python",
   "name": "python3"
  },
  "language_info": {
   "codemirror_mode": {
    "name": "ipython",
    "version": 3
   },
   "file_extension": ".py",
   "mimetype": "text/x-python",
   "name": "python",
   "nbconvert_exporter": "python",
   "pygments_lexer": "ipython3",
   "version": "3.8.13"
  },
  "otter": {
   "OK_FORMAT": true,
   "assignment_name": "hw09",
   "tests": {
    "q1": {
     "name": "q1",
     "points": 2,
     "suites": [
      {
       "cases": [
        {
         "code": ">>> person = Person(\"Иван\", 25)\n>>> \n>>> assert person.age == 25, \"Возраст должен быть 25\"\n>>> assert person.name == \"Иван\", \"Имя должно быть Иван\"\n>>> assert person.introduce() == \"Меня зовут Иван, мне 25 лет.\", f\"Метод introduce должен возвращать 'Меня зовут Иван, мне 25 лет. Твой метод возвращает: {person.introduce()}'\"\n",
         "hidden": false,
         "locked": false
        }
       ],
       "scored": true,
       "setup": "",
       "teardown": "",
       "type": "doctest"
      }
     ]
    },
    "q2": {
     "name": "q2",
     "points": 3,
     "suites": [
      {
       "cases": [
        {
         "code": ">>> \n>>> rectangle = Rectangle(5, 10)\n>>> \n>>> assert rectangle.width == 5, \"Ширина должна быть 5\"\n>>> assert rectangle.height == 10, \"Высота должна быть 10\"\n>>> assert rectangle.area() == 50, \"Площадь должна быть 50\"\n",
         "hidden": false,
         "locked": false
        }
       ],
       "scored": true,
       "setup": "",
       "teardown": "",
       "type": "doctest"
      }
     ]
    },
    "q3": {
     "name": "q3",
     "points": 3,
     "suites": [
      {
       "cases": [
        {
         "code": ">>> \n>>> from utils.hashing import hash_input\n>>> \n>>> account = BankAccount()\n>>> deposit_operation = account.deposit(100)\n>>> withdrawal_operation = account.withdraw(50)\n>>> \n>>> assert hash_input(deposit_operation) == \"1930cbf854a75446212a6daad8235797e38d1d8665fcfc76de3770bea31b762e\", f'{deposit_operation}'\n>>> assert hash_input(withdrawal_operation) == \"93b5f6565dad47e6a27f799b389d51d33a8794d56657cd9a7456982a44545ae1\"\n",
         "hidden": false,
         "locked": false
        }
       ],
       "scored": true,
       "setup": "",
       "teardown": "",
       "type": "doctest"
      }
     ]
    }
   }
  }
 },
 "nbformat": 4,
 "nbformat_minor": 0
}
